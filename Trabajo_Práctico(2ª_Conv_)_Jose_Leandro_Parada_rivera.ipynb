{
  "nbformat": 4,
  "nbformat_minor": 0,
  "metadata": {
    "colab": {
      "name": "Trabajo Práctico(2ª Conv.)_Jose_Leandro_Parada_rivera.ipynb",
      "provenance": [],
      "collapsed_sections": [],
      "include_colab_link": true
    },
    "kernelspec": {
      "name": "python3",
      "display_name": "Python 3"
    }
  },
  "cells": [
    {
      "cell_type": "markdown",
      "metadata": {
        "id": "view-in-github",
        "colab_type": "text"
      },
      "source": [
        "<a href=\"https://colab.research.google.com/github/Leaco92/test-colab/blob/main/Trabajo_Pr%C3%A1ctico(2%C2%AA_Conv_)_Jose_Leandro_Parada_rivera.ipynb\" target=\"_parent\"><img src=\"https://colab.research.google.com/assets/colab-badge.svg\" alt=\"Open In Colab\"/></a>"
      ]
    },
    {
      "cell_type": "markdown",
      "metadata": {
        "id": "hVbXYX-RfPWh"
      },
      "source": [
        "# Algoritmos de optimización - Seminario<br>\n",
        "Nombre y Apellidos:  Jose Leandro Parada Rivera <br>\n",
        "Url: https://github.com/.../03MAIR---Algoritmos-de-Optimizacion---2019/tree/master/SEMINARIO<br>\n",
        "Problema:\n",
        "> 1. Sesiones de doblaje <br>\n",
        "\n",
        "Descripción del problema:(copiar enunciado)\n",
        "\n",
        "\n",
        "(*) La respuesta es obligatoria\n",
        "\n",
        "\n",
        "\n",
        "\n",
        "\n",
        "                                        "
      ]
    },
    {
      "cell_type": "markdown",
      "source": [
        "Se precisa coordinar el doblaje de una película. Los actores del doblaje deben coincidir en\n",
        "las tomas en las que sus personajes aparecen juntos en las diferentes tomas. Los actores\n",
        "de doblaje cobran todos la misma cantidad por cada día que deben desplazarse hasta el\n",
        "estudio de grabación independientemente del número de tomas que se graben. No es\n",
        "posible grabar más de 6 tomas por día. El objetivo es planificar las sesiones por día de\n",
        "manera que se gasto por los servicios de los actores de doblaje sea el menor posible. Los\n",
        "datos son:\n",
        "Número de actores: 10\n",
        "Número de tomas : 30\n",
        "Actores/Tomas :\n",
        "1 indica que el actor participa en la toma\n",
        "0 en caso contrario"
      ],
      "metadata": {
        "id": "eaetWNiC2qqj"
      }
    },
    {
      "cell_type": "markdown",
      "metadata": {
        "id": "3_-exlrTgLd-"
      },
      "source": [
        "(*)¿Cuantas posibilidades hay sin tener en cuenta las restricciones?<br>\n",
        "\n",
        "\n",
        "\n",
        "¿Cuantas posibilidades hay teniendo en cuenta todas las restricciones.\n",
        "\n",
        "\n"
      ]
    },
    {
      "cell_type": "markdown",
      "metadata": {
        "id": "WfCUqJyKhPcw"
      },
      "source": [
        "Respuesta"
      ]
    },
    {
      "cell_type": "code",
      "metadata": {
        "id": "iq6Fe32MgpDX"
      },
      "source": [
        "# Posibilidades sin restricciones = 42'751.800\n",
        "# Posibilidades con restircciones = 593.751\n"
      ],
      "execution_count": null,
      "outputs": []
    },
    {
      "cell_type": "markdown",
      "metadata": {
        "id": "dzynfVJahHoY"
      },
      "source": [
        "Modelo para el espacio de soluciones<br>\n",
        "(*) ¿Cual es la estructura de datos que mejor se adapta al problema? Argumentalo.(Es posible que hayas elegido una al principio y veas la necesidad de cambiar, arguentalo)\n"
      ]
    },
    {
      "cell_type": "markdown",
      "metadata": {
        "id": "xFIJrOwKi2Ti"
      },
      "source": [
        "Respuesta"
      ]
    },
    {
      "cell_type": "markdown",
      "source": [
        "Se selecciona una estructura de datos de tipo dinámico para dar solución al problema, en este caso se implementa a traves de un árbol de expansión que modela todo el espacio de soluciones y se implementan un par de condiciones que permiten disminuir el espacio de soluciones"
      ],
      "metadata": {
        "id": "CnnlwEkYCF5L"
      }
    },
    {
      "cell_type": "markdown",
      "metadata": {
        "id": "7Z9U2W7bi-XS"
      },
      "source": [
        "Según el modelo para el espacio de soluciones<br>\n",
        "(*)¿Cual es la función objetivo?\n",
        "\n",
        "(*)¿Es un problema de maximización o minimización?"
      ]
    },
    {
      "cell_type": "markdown",
      "metadata": {
        "id": "hBalWLM7j1_d"
      },
      "source": [
        "Respuesta"
      ]
    },
    {
      "cell_type": "markdown",
      "source": [
        "Función objetivo:\n",
        "\n",
        "$$\\mathrm{Y= x_1+x_2+x_3+x_4+x_5}$$\n",
        "\n",
        "donde \n",
        "$$\\mathrm{Y = costo-total}$$ \n",
        "$$\\mathrm{x_n = coste-de-grabación-por-día}$$\n",
        "\n",
        "Tipo de problema:\n",
        "\n",
        "es una función a minimización en donde se busca una solución que proporcione el menor resultado posible teniendo en cuenta las restricciones del problema"
      ],
      "metadata": {
        "id": "9iOpqY6-AEpj"
      }
    },
    {
      "cell_type": "markdown",
      "metadata": {
        "id": "rlnTYgY1j6I2"
      },
      "source": [
        "Diseña un algoritmo para resolver el problema por fuerza bruta"
      ]
    },
    {
      "cell_type": "markdown",
      "metadata": {
        "id": "70rDgxYXkC8r"
      },
      "source": [
        "Respuesta"
      ]
    },
    {
      "cell_type": "code",
      "source": [
        "from google.colab import files \n",
        "\n",
        "uploaded = files.upload()"
      ],
      "metadata": {
        "colab": {
          "resources": {
            "http://localhost:8080/nbextensions/google.colab/files.js": {
              "data": "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",
              "ok": true,
              "headers": [
                [
                  "content-type",
                  "application/javascript"
                ]
              ],
              "status": 200,
              "status_text": ""
            }
          },
          "base_uri": "https://localhost:8080/",
          "height": 73
        },
        "id": "c_pH4VZXAS-j",
        "outputId": "4a330752-03a5-40c2-f70f-b237d406097f"
      },
      "execution_count": 4,
      "outputs": [
        {
          "output_type": "display_data",
          "data": {
            "text/plain": [
              "<IPython.core.display.HTML object>"
            ],
            "text/html": [
              "\n",
              "     <input type=\"file\" id=\"files-743c0af9-1b87-4878-9059-981064a922ed\" name=\"files[]\" multiple disabled\n",
              "        style=\"border:none\" />\n",
              "     <output id=\"result-743c0af9-1b87-4878-9059-981064a922ed\">\n",
              "      Upload widget is only available when the cell has been executed in the\n",
              "      current browser session. Please rerun this cell to enable.\n",
              "      </output>\n",
              "      <script src=\"/nbextensions/google.colab/files.js\"></script> "
            ]
          },
          "metadata": {}
        },
        {
          "output_type": "stream",
          "name": "stdout",
          "text": [
            "Saving data.csv to data (1).csv\n"
          ]
        }
      ]
    },
    {
      "cell_type": "code",
      "metadata": {
        "id": "CJb5sQ0qkENy"
      },
      "source": [
        "import pandas as pd \n",
        "import numpy as np\n",
        "import io \n",
        "\n",
        "df = pd.read_csv(io.BytesIO(uploaded['data.csv']),delimiter=';') \n",
        "nmp=df.to_numpy()\n",
        "\n",
        "\n",
        "#se crea una función que permita seleccionar la primera escena \n",
        "def criterios_seleccion_scn1(total_escenas):\n",
        "  #seleccion de primera escena\n",
        "  x,i,escenas_dia=0,0,[]\n",
        "  total_escenas_f=np.delete(total_escenas, 11, axis=1)\n",
        "  maxValues = sorted(total_escenas_f.max(axis = 1),reverse=True) \n",
        "  while x==0:\n",
        "    if total_escenas_f[i][10]==maxValues[0]:\n",
        "      x=1\n",
        "      escenas_dia.append(total_escenas[i])\n",
        "      total_escenas=np.delete(total_escenas, i, axis=0)\n",
        "    i+=1\n",
        "  return escenas_dia,total_escenas\n",
        "\n",
        "#Se crea una funciona que permita determinar el coste por medio de los actores de la escena\n",
        "def total_actores_escena(actores,nueva_escena):\n",
        "  if len(actores) >11:\n",
        "    actores=np.delete(actores, 11)\n",
        "    nueva_escena=np.delete(nueva_escena, 11)\n",
        "  if len(actores) >10:\n",
        "    actores=np.delete(actores, 10)\n",
        "    nueva_escena=np.delete(nueva_escena, 10)\n",
        "  val=np.where(nueva_escena ==1)\n",
        "  for i in val[0]:\n",
        "    actores[i]=1\n",
        "  return actores\n",
        "\n",
        "#Se crea una función que permita seleccionar el resto de las escena que se deben de realizar en el dia \n",
        "def criterios_seleccion_scn(escena,total_escenas,actores):\n",
        "  #seleccion siguiente escena\n",
        "  val=np.where(actores == 1)\n",
        "  mismos,nuevos,siguiente_escena=0,5,0\n",
        "  for i in range(len(total_escenas)):\n",
        "    nuevos_act = len(np.setdiff1d(np.where(total_escenas[i] == 1), val))\n",
        "    mismos_act = len(np.setdiff1d(val, np.where(total_escenas[i] == 1)))\n",
        "    if len(val[0])-mismos_act > mismos:\n",
        "      siguiente_escena=i\n",
        "      mismos=len(val[0])-mismos_act\n",
        "  escena.append(total_escenas[siguiente_escena])\n",
        "  actores_f=total_actores_escena(actores,total_escenas[siguiente_escena])\n",
        "  total_escenas=np.delete(total_escenas, siguiente_escena, axis=0)\n",
        "  return escena,total_escenas,actores_f\n",
        "\n",
        "#Se crea una función que permite seleccionar y dividir la escenas por dia y mostras las ecenas totales por dia \n",
        "def tomas_dia(total_escenas,max_tomas_dia):\n",
        "  escenas_totales=[]\n",
        "  costo_total=0\n",
        "  tamaño=0\n",
        "  while tamaño<5:\n",
        "    for j in range(5):\n",
        "      escena,total_escenas=criterios_seleccion_scn1(total_escenas)\n",
        "      actores = total_actores_escena(escena[0],escena[0])\n",
        "      total_tomas_dia=[]\n",
        "      total_costos_x_dia=0\n",
        "      for i in range(1,max_tomas_dia):\n",
        "        escena,total_escenas,actores = criterios_seleccion_scn(escena,total_escenas,actores)    \n",
        "      total_tomas_dia.append(escena)\n",
        "      total_costos_x_dia=sum(actores)\n",
        "      escenas_totales.append(total_tomas_dia)\n",
        "      costo_total+=total_costos_x_dia\n",
        "    tamaño = len(escenas_totales)\n",
        "  return(escenas_totales,costo_total)\n"
      ],
      "execution_count": 9,
      "outputs": []
    },
    {
      "cell_type": "code",
      "source": [
        "tomas_dia(nmp.copy(),6)"
      ],
      "metadata": {
        "colab": {
          "base_uri": "https://localhost:8080/"
        },
        "id": "bCklwLclAoNj",
        "outputId": "740ad983-e3e2-48d1-a56c-36f7981e5d66"
      },
      "execution_count": 10,
      "outputs": [
        {
          "output_type": "execute_result",
          "data": {
            "text/plain": [
              "([[[array([1, 1, 1, 1, 1, 0, 0, 0, 0, 0, 5, 1]),\n",
              "    array([1, 1, 0, 1, 1, 0, 0, 0, 0, 0, 4, 6]),\n",
              "    array([1, 1, 0, 1, 1, 0, 0, 0, 0, 0, 4, 7]),\n",
              "    array([ 1,  1,  1,  0,  1,  0,  0,  1,  0,  0,  5, 11]),\n",
              "    array([ 1,  1,  1,  1,  0,  1,  0,  0,  0,  0,  5, 12]),\n",
              "    array([ 1,  0,  1,  1,  1,  0,  0,  0,  0,  0,  4, 20])]],\n",
              "  [[array([1, 1, 0, 0, 0, 0, 1, 1, 0, 0, 4, 4]),\n",
              "    array([ 1,  1,  0,  0,  0,  0,  1,  0,  0,  0,  3, 15]),\n",
              "    array([0, 1, 0, 0, 1, 0, 1, 0, 0, 0, 3, 3]),\n",
              "    array([0, 1, 0, 1, 0, 0, 0, 1, 0, 0, 3, 5]),\n",
              "    array([1, 1, 0, 1, 0, 0, 0, 0, 0, 0, 3, 9]),\n",
              "    array([ 1,  0,  0,  1,  1,  0,  0,  0,  0,  0,  3, 13])]],\n",
              "  [[array([ 1,  1,  0,  0,  0,  1,  0,  0,  1,  0,  4, 10]),\n",
              "    array([1, 1, 0, 0, 0, 1, 0, 0, 0, 0, 3, 8]),\n",
              "    array([ 1,  0,  1,  0,  0,  1,  0,  0,  0,  0,  3, 14]),\n",
              "    array([ 1,  1,  1,  1,  0,  0,  0,  0,  0,  0,  4, 22]),\n",
              "    array([ 1,  1,  0,  1,  0,  0,  0,  0,  0,  1,  4, 25]),\n",
              "    array([ 1,  0,  1,  0,  1,  0,  0,  0,  1,  0,  4, 26])]],\n",
              "  [[array([0, 0, 1, 1, 1, 0, 0, 0, 0, 0, 3, 2]),\n",
              "    array([ 0,  0,  0,  1,  1,  0,  0,  0,  0,  0,  2, 27]),\n",
              "    array([ 0,  0,  0,  1,  0,  0,  0,  0,  0,  1,  2, 16]),\n",
              "    array([ 1,  0,  1,  0,  0,  0,  0,  0,  0,  0,  2, 17]),\n",
              "    array([ 1,  0,  1,  0,  0,  0,  0,  0,  0,  0,  2, 19]),\n",
              "    array([ 1,  0,  1,  0,  0,  0,  0,  0,  0,  0,  2, 23])]],\n",
              "  [[array([ 1,  0,  0,  0,  1,  1,  0,  0,  0,  0,  3, 29]),\n",
              "    array([ 0,  0,  1,  0,  0,  1,  0,  0,  0,  0,  2, 18]),\n",
              "    array([ 0,  0,  1,  0,  0,  1,  0,  0,  0,  0,  2, 24]),\n",
              "    array([ 0,  0,  0,  0,  0,  1,  0,  1,  0,  0,  2, 21]),\n",
              "    array([ 1,  0,  0,  1,  0,  0,  0,  0,  0,  0,  2, 28]),\n",
              "    array([ 1,  0,  0,  1,  0,  0,  0,  0,  0,  0,  2, 30])]]],\n",
              " 32)"
            ]
          },
          "metadata": {},
          "execution_count": 10
        }
      ]
    },
    {
      "cell_type": "markdown",
      "metadata": {
        "id": "tgrnsC2nkFa8"
      },
      "source": [
        "Calcula la complejidad del algoritmo por fuerza bruta"
      ]
    },
    {
      "cell_type": "markdown",
      "metadata": {
        "id": "9eUd3xwckP68"
      },
      "source": [
        "Respuesta"
      ]
    },
    {
      "cell_type": "code",
      "metadata": {
        "id": "rvZWwL-ckRST"
      },
      "source": [
        "#la complejidad del codigo es de n^3"
      ],
      "execution_count": null,
      "outputs": []
    },
    {
      "cell_type": "markdown",
      "metadata": {
        "id": "txbrmLmskReM"
      },
      "source": [
        "(*)Diseña un algoritmo que mejore la complejidad del algortimo por fuerza bruta. Argumenta porque crees que mejora el algoritmo por fuerza bruta"
      ]
    },
    {
      "cell_type": "markdown",
      "metadata": {
        "id": "hLrVwt5QkZPD"
      },
      "source": [
        "Respuesta"
      ]
    },
    {
      "cell_type": "markdown",
      "source": [
        "El algoritmo utilizado para mejorar el de fuerza bruta es el de “Backtracking” o “Fuerza bruta”, con la implementación de este algoritmo se redujo la complejidad del sistema de n^3 en el de fuerza bruta a n^2 en el de Backtracking; adicional a esto se logró minimizar aún más la función objetivo del sistema ya que de un costo de 32 en fuerza bruta se disminuyo a un valor de 26 con Backtracking; por ultimo al seleccionar este algoritmo se contemplan una mayor cantidad de soluciones posibles."
      ],
      "metadata": {
        "id": "fk7DMuyqeN4a"
      }
    },
    {
      "cell_type": "code",
      "metadata": {
        "id": "m1eyM21Vkabg"
      },
      "source": [
        "df = pd.read_csv(io.BytesIO(uploaded['data.csv']),delimiter=';') \n",
        "nmp=df.to_numpy()\n",
        "\n",
        "\n",
        "# se crea una función de coste para la seleccion de escenas por dia\n",
        "def funcion_coste(escena,actores,costo_f):\n",
        "  acc=0\n",
        "  if len(escena) >11:\n",
        "    escena=np.delete(escena, 11)\n",
        "  act=np.where(escena == 1)\n",
        "  if len(np.union1d(act, actores)) <=costo_f:\n",
        "    acc=sum(np.union1d(act, actores))\n",
        "    actores=np.union1d(act, actores)\n",
        "    return True,actores,acc\n",
        "  else:\n",
        "    return False,actores,acc\n",
        "\n",
        "#se crea una funcion que permite determinar todas las funciones por dia que se pueden generar dadas las condiciones \n",
        "def dia_escena(N,total_escenas,escena,costo_f,restricciones=[], solucion=[],actores=[],act=[],m=[]): \n",
        "  if len(solucion) == 0:\n",
        "    solucion = [0 for i in range(N) ]\n",
        "  for i in total_escenas:\n",
        "    if escena==0:\n",
        "      restricciones,actores=[],[]  \n",
        "    if i[11] not in restricciones:\n",
        "      solucion[escena] = i\n",
        "      costo,actores,acc=funcion_coste(solucion[escena],actores,costo_f)\n",
        "      if costo:        \n",
        "        if escena == N-1:\n",
        "          if acc not in act:\n",
        "            act.append(acc)\n",
        "            m.extend(solucion)\n",
        "          restricciones.append(i[11])\n",
        "          actores=[] \n",
        "        else:          \n",
        "          restricciones.append(i[11])\n",
        "          dia_escena(N,total_escenas,escena+1,costo_f,restricciones, solucion,actores,act,m)      \n",
        "  return m \n",
        "\n",
        "#Se crea una función que permite elimir las escenas que se seleccionen \n",
        "def eliminar_filas(escenas_totales,escenas_dia,n):\n",
        "  f_eli=[]\n",
        "  for i in range(n):\n",
        "    a,_=np.where(escenas_totales[:, -1:12] == escenas_dia[i][11])\n",
        "    f_eli.append(a[0])\n",
        "  escenas_totales=np.delete(escenas_totales, (tuple(f_eli)), axis=0)\n",
        "  return escenas_totales\n",
        "\n",
        "#Se crea una funcion de coste que permite calcular el coste de la escena total \n",
        "def coste_final(costo,coste_max,escena):\n",
        "  val1,val=0,0\n",
        "  if escena == 0:\n",
        "    val+=costo[0]\n",
        "    val1+=coste_max[0]\n",
        "  else:\n",
        "    for i in range(escena):\n",
        "      val+=costo[i]\n",
        "      val1+=coste_max[i]\n",
        "      if costo[i]<coste_max[i]:\n",
        "        coste_max[i]=costo[i]\n",
        "  if val<val1:\n",
        "    return 1,coste_max\n",
        "  else:\n",
        "    return 0,coste_max\n",
        "\n",
        "\n",
        " #Se crea una función que permite seleccionar y dividir la escenas por dia y mostras las ecenas totales por dia  \n",
        "def fun_escenas_total(N,costo,escena,escenas_totales,d,total_escenas=[],solucion=[],costo_total=[],costo_max=[]):\n",
        "\n",
        "  if len(solucion) == 0:\n",
        "    solucion = [0 for i in range(N) ]\n",
        "    costo_total = [0 for i in range(N) ]\n",
        "    costo_max = [100 for i in range(N) ]\n",
        "  tama=True\n",
        "  while tama==True:\n",
        "    if len(escenas_totales)>6:\n",
        "      escenas_dia =dia_escena(6,escenas_totales,0,costo,restricciones=[],solucion=[0, 0, 0, 0, 0, 0],actores=[],act=[],m=[])\n",
        "      if len(escenas_dia)>0:\n",
        "        tama=False\n",
        "      else:\n",
        "        costo+=1\n",
        "    else:\n",
        "      escenas_dia=escenas_totales\n",
        "      tama=False\n",
        "  escenas_dia=np.array_split(escenas_dia,len(escenas_dia)/6)\n",
        "  for i in escenas_dia:\n",
        "    costo_total[escena]=costo\n",
        "    solucion[escena] = i \n",
        "    val,costo_max=coste_final(costo_total,costo_max,escena)\n",
        "    if val==1:\n",
        "      if sum(costo_total)<sum(costo_max):\n",
        "        if escena == N-1:\n",
        "            total_escenas=solucion\n",
        "            costo_max=costo_total\n",
        "            return print('costo min=',sum(costo_total),'Matriz de coste', costo_max,'Escenas= ',total_escenas)\n",
        "        else:     \n",
        "            escenas_totales=eliminar_filas(escenas_totales,i,N)\n",
        "            fun_escenas_total(N,4,escena+1,escenas_totales,d,total_escenas,solucion,costo_total,costo_max)\n"
      ],
      "execution_count": 25,
      "outputs": []
    },
    {
      "cell_type": "code",
      "source": [
        "fun_escenas_total(5,4,0,nmp.copy(),5,total_escenas=[],solucion=[],costo_total=[],costo_max=[])"
      ],
      "metadata": {
        "colab": {
          "base_uri": "https://localhost:8080/"
        },
        "id": "BP0wjDH8YPfS",
        "outputId": "bd7fceb1-2867-4725-f44b-8fb72ee0d0c5"
      },
      "execution_count": 26,
      "outputs": [
        {
          "output_type": "stream",
          "name": "stdout",
          "text": [
            "costo min= 26 Matriz de coste [4, 4, 5, 6, 7] Escenas=  [array([[ 0,  0,  1,  1,  1,  0,  0,  0,  0,  0,  3,  2],\n",
            "       [ 1,  0,  0,  1,  1,  0,  0,  0,  0,  0,  3, 13],\n",
            "       [ 1,  0,  1,  0,  0,  0,  0,  0,  0,  0,  2, 17],\n",
            "       [ 1,  0,  1,  0,  0,  0,  0,  0,  0,  0,  2, 19],\n",
            "       [ 1,  0,  1,  1,  1,  0,  0,  0,  0,  0,  4, 20],\n",
            "       [ 1,  0,  1,  0,  0,  0,  0,  0,  0,  0,  2, 23]]), array([[ 1,  1,  0,  1,  1,  0,  0,  0,  0,  0,  4,  6],\n",
            "       [ 1,  1,  0,  1,  1,  0,  0,  0,  0,  0,  4,  7],\n",
            "       [ 1,  1,  0,  1,  0,  0,  0,  0,  0,  0,  3,  9],\n",
            "       [ 0,  0,  0,  1,  1,  0,  0,  0,  0,  0,  2, 27],\n",
            "       [ 1,  0,  0,  1,  0,  0,  0,  0,  0,  0,  2, 28],\n",
            "       [ 1,  0,  0,  1,  0,  0,  0,  0,  0,  0,  2, 30]]), array([[ 1,  1,  0,  0,  0,  1,  0,  0,  1,  0,  4, 10],\n",
            "       [ 1,  1,  0,  0,  0,  1,  0,  0,  0,  0,  3,  8],\n",
            "       [ 1,  0,  1,  0,  0,  1,  0,  0,  0,  0,  3, 14],\n",
            "       [ 0,  0,  1,  0,  0,  1,  0,  0,  0,  0,  2, 18],\n",
            "       [ 1,  0,  1,  0,  0,  0,  0,  0,  0,  0,  2, 23],\n",
            "       [ 0,  0,  1,  0,  0,  1,  0,  0,  0,  0,  2, 24]]), array([[ 1,  1,  1,  1,  0,  1,  0,  0,  0,  0,  5, 12],\n",
            "       [ 1,  1,  1,  1,  1,  0,  0,  0,  0,  0,  5,  1],\n",
            "       [ 1,  1,  1,  1,  0,  0,  0,  0,  0,  0,  4, 22],\n",
            "       [ 0,  0,  1,  0,  0,  1,  0,  0,  0,  0,  2, 24],\n",
            "       [ 1,  0,  0,  0,  1,  1,  0,  0,  0,  0,  3, 29],\n",
            "       [ 1,  0,  0,  1,  0,  0,  0,  0,  0,  0,  2, 30]]), array([[ 0,  1,  0,  0,  1,  0,  1,  0,  0,  0,  3,  3],\n",
            "       [ 1,  1,  0,  0,  0,  0,  1,  1,  0,  0,  4,  4],\n",
            "       [ 0,  1,  0,  1,  0,  0,  0,  1,  0,  0,  3,  5],\n",
            "       [ 1,  1,  1,  0,  1,  0,  0,  1,  0,  0,  5, 11],\n",
            "       [ 1,  1,  0,  0,  0,  0,  1,  0,  0,  0,  3, 15],\n",
            "       [ 1,  0,  0,  1,  0,  0,  0,  0,  0,  0,  2, 30]])]\n"
          ]
        }
      ]
    },
    {
      "cell_type": "markdown",
      "metadata": {
        "id": "eGDB4K6uk1iN"
      },
      "source": [
        "(*)Calcula la complejidad del algoritmo "
      ]
    },
    {
      "cell_type": "markdown",
      "metadata": {
        "id": "NhpTh_BPk1ms"
      },
      "source": [
        "Respuesta"
      ]
    },
    {
      "cell_type": "code",
      "metadata": {
        "id": "nREzhkStlCq8"
      },
      "source": [
        "#la complejidad del codigo es de n^2"
      ],
      "execution_count": null,
      "outputs": []
    },
    {
      "cell_type": "markdown",
      "metadata": {
        "id": "3M6QjTsSkmYe"
      },
      "source": [
        "Según el problema (y tenga sentido), diseña un juego de datos de entrada aleatorios"
      ]
    },
    {
      "cell_type": "markdown",
      "metadata": {
        "id": "Jc3_OlyNkvjZ"
      },
      "source": [
        "Respuesta"
      ]
    },
    {
      "cell_type": "code",
      "metadata": {
        "id": "sJ-N2etjkyWc",
        "colab": {
          "base_uri": "https://localhost:8080/"
        },
        "outputId": "46ee2fa6-3472-4e95-a023-c685c85a8740"
      },
      "source": [
        "import random\n",
        "\n",
        "escenas = np.zeros((30, 12))\n",
        "for i in range(len(escenas)):\n",
        "  val = random.randint(0, 5)\n",
        "  for j in range(val):\n",
        "    val1 = random.randint(0, 9)\n",
        "    while escenas[i][val1] ==1:\n",
        "      val1 = random.randint(0, 9)\n",
        "    escenas[i][val1]=1\n",
        "  escenas[i][10]=val\n",
        "  escenas[i][11]=i+1\n",
        "\n",
        "print(escenas)\n"
      ],
      "execution_count": 22,
      "outputs": [
        {
          "output_type": "stream",
          "name": "stdout",
          "text": [
            "[[ 0.  1.  0.  0.  0.  1.  1.  0.  1.  0.  4.  1.]\n",
            " [ 0.  0.  0.  0.  0.  0.  0.  0.  0.  0.  0.  2.]\n",
            " [ 0.  0.  0.  0.  1.  1.  0.  0.  0.  0.  2.  3.]\n",
            " [ 0.  0.  0.  0.  0.  0.  1.  0.  1.  0.  2.  4.]\n",
            " [ 1.  1.  1.  1.  0.  0.  1.  0.  0.  0.  5.  5.]\n",
            " [ 0.  0.  0.  0.  0.  0.  0.  0.  0.  0.  0.  6.]\n",
            " [ 0.  0.  0.  0.  0.  0.  0.  0.  0.  0.  0.  7.]\n",
            " [ 0.  1.  0.  0.  0.  0.  0.  1.  0.  0.  2.  8.]\n",
            " [ 1.  0.  0.  1.  0.  1.  0.  0.  0.  0.  3.  9.]\n",
            " [ 0.  1.  0.  0.  1.  0.  0.  0.  1.  0.  3. 10.]\n",
            " [ 1.  0.  1.  0.  1.  0.  0.  0.  1.  1.  5. 11.]\n",
            " [ 0.  0.  0.  0.  0.  0.  0.  1.  0.  0.  1. 12.]\n",
            " [ 0.  0.  0.  0.  0.  0.  0.  0.  0.  0.  0. 13.]\n",
            " [ 0.  0.  0.  0.  0.  1.  0.  0.  1.  0.  2. 14.]\n",
            " [ 1.  0.  0.  1.  0.  0.  0.  0.  0.  0.  2. 15.]\n",
            " [ 0.  0.  0.  0.  0.  0.  0.  0.  0.  0.  0. 16.]\n",
            " [ 1.  0.  1.  0.  0.  0.  0.  0.  0.  1.  3. 17.]\n",
            " [ 0.  0.  0.  0.  0.  0.  0.  0.  0.  0.  0. 18.]\n",
            " [ 0.  0.  0.  0.  1.  1.  1.  0.  1.  1.  5. 19.]\n",
            " [ 0.  0.  0.  0.  1.  1.  1.  0.  1.  0.  4. 20.]\n",
            " [ 0.  0.  1.  0.  0.  0.  1.  1.  1.  0.  4. 21.]\n",
            " [ 0.  1.  1.  0.  0.  0.  0.  0.  0.  0.  2. 22.]\n",
            " [ 1.  0.  0.  1.  0.  1.  0.  1.  1.  0.  5. 23.]\n",
            " [ 0.  0.  1.  0.  1.  0.  0.  0.  1.  0.  3. 24.]\n",
            " [ 0.  0.  0.  0.  1.  1.  0.  0.  0.  1.  3. 25.]\n",
            " [ 1.  0.  1.  0.  0.  0.  0.  0.  0.  0.  2. 26.]\n",
            " [ 0.  1.  0.  0.  0.  0.  0.  0.  0.  0.  1. 27.]\n",
            " [ 1.  0.  0.  0.  1.  0.  1.  1.  1.  0.  5. 28.]\n",
            " [ 0.  1.  1.  0.  0.  0.  0.  1.  0.  0.  3. 29.]\n",
            " [ 0.  1.  0.  1.  1.  0.  0.  0.  1.  1.  5. 30.]]\n"
          ]
        }
      ]
    },
    {
      "cell_type": "markdown",
      "metadata": {
        "id": "zy5ZROmjlGo1"
      },
      "source": [
        "Aplica el algoritmo al juego de datos generado"
      ]
    },
    {
      "cell_type": "markdown",
      "metadata": {
        "id": "_Cmj-PVylMsa"
      },
      "source": [
        "Respuesta"
      ]
    },
    {
      "cell_type": "code",
      "metadata": {
        "id": "Jkx8GeiYlUz1",
        "colab": {
          "base_uri": "https://localhost:8080/"
        },
        "outputId": "a027d439-db15-43e6-d13f-67bd17bfb1fe"
      },
      "source": [
        "fun_escenas_total(5,4,0,escenas.copy(),5,total_escenas=[],solucion=[],costo_total=[],costo_max=[])"
      ],
      "execution_count": 24,
      "outputs": [
        {
          "output_type": "stream",
          "name": "stdout",
          "text": [
            "costo min= 27 Matriz de coste [4, 4, 4, 7, 8] Escenas=  [array([[ 0.,  1.,  0.,  0.,  0.,  1.,  1.,  0.,  1.,  0.,  4.,  1.],\n",
            "       [ 0.,  0.,  0.,  0.,  0.,  0.,  0.,  0.,  0.,  0.,  0.,  2.],\n",
            "       [ 0.,  0.,  0.,  0.,  0.,  0.,  1.,  0.,  1.,  0.,  2.,  4.],\n",
            "       [ 0.,  0.,  0.,  0.,  0.,  0.,  0.,  0.,  0.,  0.,  0.,  6.],\n",
            "       [ 0.,  0.,  0.,  0.,  0.,  0.,  0.,  0.,  0.,  0.,  0.,  7.],\n",
            "       [ 0.,  0.,  0.,  0.,  0.,  0.,  0.,  0.,  0.,  0.,  0., 13.]]), array([[ 1.,  0.,  0.,  1.,  0.,  1.,  0.,  0.,  0.,  0.,  3.,  9.],\n",
            "       [ 0.,  0.,  0.,  0.,  1.,  1.,  0.,  0.,  0.,  0.,  2.,  3.],\n",
            "       [ 0.,  0.,  0.,  0.,  0.,  0.,  0.,  0.,  0.,  0.,  0., 13.],\n",
            "       [ 1.,  0.,  0.,  1.,  0.,  0.,  0.,  0.,  0.,  0.,  2., 15.],\n",
            "       [ 0.,  0.,  0.,  0.,  0.,  0.,  0.,  0.,  0.,  0.,  0., 16.],\n",
            "       [ 0.,  0.,  0.,  0.,  0.,  0.,  0.,  0.,  0.,  0.,  0., 18.]]), array([[ 0.,  0.,  0.,  0.,  0.,  0.,  0.,  1.,  0.,  0.,  1., 12.],\n",
            "       [ 0.,  1.,  0.,  0.,  0.,  0.,  0.,  1.,  0.,  0.,  2.,  8.],\n",
            "       [ 0.,  0.,  0.,  0.,  0.,  0.,  0.,  0.,  0.,  0.,  0., 18.],\n",
            "       [ 0.,  1.,  1.,  0.,  0.,  0.,  0.,  0.,  0.,  0.,  2., 22.],\n",
            "       [ 0.,  1.,  0.,  0.,  0.,  0.,  0.,  0.,  0.,  0.,  1., 27.],\n",
            "       [ 0.,  1.,  1.,  0.,  0.,  0.,  0.,  1.,  0.,  0.,  3., 29.]]), array([[ 1.,  0.,  1.,  0.,  1.,  0.,  0.,  0.,  1.,  1.,  5., 11.],\n",
            "       [ 0.,  1.,  0.,  0.,  1.,  0.,  0.,  0.,  1.,  0.,  3., 10.],\n",
            "       [ 0.,  0.,  0.,  0.,  0.,  1.,  0.,  0.,  1.,  0.,  2., 14.],\n",
            "       [ 1.,  0.,  1.,  0.,  0.,  0.,  0.,  0.,  0.,  1.,  3., 17.],\n",
            "       [ 0.,  0.,  1.,  0.,  1.,  0.,  0.,  0.,  1.,  0.,  3., 24.],\n",
            "       [ 0.,  0.,  0.,  0.,  1.,  1.,  0.,  0.,  0.,  1.,  3., 25.]]), array([[ 0.,  0.,  0.,  0.,  1.,  1.,  1.,  0.,  1.,  1.,  5., 19.],\n",
            "       [ 0.,  0.,  0.,  0.,  1.,  1.,  1.,  0.,  1.,  0.,  4., 20.],\n",
            "       [ 0.,  0.,  1.,  0.,  0.,  0.,  1.,  1.,  1.,  0.,  4., 21.],\n",
            "       [ 0.,  0.,  0.,  0.,  1.,  1.,  0.,  0.,  0.,  1.,  3., 25.],\n",
            "       [ 1.,  0.,  1.,  0.,  0.,  0.,  0.,  0.,  0.,  0.,  2., 26.],\n",
            "       [ 1.,  0.,  0.,  0.,  1.,  0.,  1.,  1.,  1.,  0.,  5., 28.]])]\n"
          ]
        }
      ]
    },
    {
      "cell_type": "markdown",
      "metadata": {
        "id": "eTFWUJQrtGcv"
      },
      "source": [
        "Enumera las referencias que has utilizado(si ha sido necesario) para llevar a cabo el trabajo"
      ]
    },
    {
      "cell_type": "markdown",
      "metadata": {
        "id": "YKQ_mRBttWsP"
      },
      "source": [
        "Respuesta"
      ]
    },
    {
      "cell_type": "markdown",
      "metadata": {
        "id": "kAkDPUyRtYyH"
      },
      "source": [
        "Describe brevemente las lineas de como crees que es posible avanzar en el estudio del problema. Ten en cuenta incluso posibles variaciones del problema y/o variaciones al alza del tamaño"
      ]
    },
    {
      "cell_type": "markdown",
      "metadata": {
        "id": "IE0uZmo-tZu-"
      },
      "source": [
        "Respuesta"
      ]
    },
    {
      "cell_type": "markdown",
      "source": [
        "Para poder avanzar con el estudio del problema es posible implementar un algoritmo de programación dinámica en donde se guarden todos los costos de las diferentes combinaciones y de esta forma poder escoger la mejor solución posible "
      ],
      "metadata": {
        "id": "Ma7HesHRlFXK"
      }
    }
  ]
}