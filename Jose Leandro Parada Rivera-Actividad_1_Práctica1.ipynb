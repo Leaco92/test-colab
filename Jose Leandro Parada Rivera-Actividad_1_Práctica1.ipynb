{
  "nbformat": 4,
  "nbformat_minor": 0,
  "metadata": {
    "colab": {
      "name": "Actividad 1:Práctica1.ipynb",
      "provenance": [],
      "collapsed_sections": [],
      "authorship_tag": "ABX9TyOzBhh1JgZTZACdin/pljQ+",
      "include_colab_link": true
    },
    "kernelspec": {
      "display_name": "Python 3",
      "name": "python3"
    },
    "language_info": {
      "name": "python"
    }
  },
  "cells": [
    {
      "cell_type": "markdown",
      "metadata": {
        "id": "view-in-github",
        "colab_type": "text"
      },
      "source": [
        "<a href=\"https://colab.research.google.com/github/Leaco92/test-colab/blob/main/Jose%20Leandro%20Parada%20Rivera-Actividad_1_Pr%C3%A1ctica1.ipynb\" target=\"_parent\"><img src=\"https://colab.research.google.com/assets/colab-badge.svg\" alt=\"Open In Colab\"/></a>"
      ]
    },
    {
      "cell_type": "markdown",
      "metadata": {
        "id": "2AIR0C-1sbY3"
      },
      "source": [
        "\n",
        "\n",
        ">Identificador válido.\n",
        "\n"
      ]
    },
    {
      "cell_type": "code",
      "metadata": {
        "colab": {
          "base_uri": "https://localhost:8080/"
        },
        "id": "_2dl__Z6sWmQ",
        "outputId": "dbd44b15-e780-4847-bb84-cafe3aeb9bb5"
      },
      "source": [
        "import string\n",
        "def FirstChar(s):\n",
        "\n",
        "    abc= string.ascii_lowercase\n",
        "    ABD=string.ascii_uppercase\n",
        "    if s[0] in ABD or s[0] in abc or s[0] == '_':\n",
        "        return print(True)\n",
        "    else:\n",
        "        return print(False)\n",
        "\n",
        "FirstChar('paciente001')\n",
        "FirstChar('P001')\n",
        "FirstChar('1Pac')\n",
        "FirstChar('_001')\n",
        "FirstChar(':p001')\n"
      ],
      "execution_count": 1,
      "outputs": [
        {
          "output_type": "stream",
          "name": "stdout",
          "text": [
            "True\n",
            "True\n",
            "False\n",
            "True\n",
            "False\n"
          ]
        }
      ]
    },
    {
      "cell_type": "markdown",
      "metadata": {
        "id": "jZaCWDLFsZy5"
      },
      "source": [
        "Porcentaje de vocales."
      ]
    },
    {
      "cell_type": "code",
      "metadata": {
        "colab": {
          "base_uri": "https://localhost:8080/"
        },
        "id": "eeRqUQO0slUh",
        "outputId": "1ac04045-92a7-455b-d233-ea4f7557a0a9"
      },
      "source": [
        "def porcentVocal(s):\n",
        "    vocales = ('aeiouAEIOU')\n",
        "    tamaño_palabra=len(s)\n",
        "    cantidad_vocales=0\n",
        "    if s !='':\n",
        "        for i in s:\n",
        "            if i in vocales:\n",
        "                cantidad_vocales+=1\n",
        "    else:\n",
        "        return print('string vacio')\n",
        "    porcentaje_vocales=cantidad_vocales/tamaño_palabra*100\n",
        "    return print(round(porcentaje_vocales,1),'%')\n",
        "\n",
        "porcentVocal('Hola')\n",
        "porcentVocal('Acacia')\n",
        "porcentVocal('Brrrrrrr')\n",
        "porcentVocal('aAe')\n",
        "porcentVocal('')\n"
      ],
      "execution_count": 2,
      "outputs": [
        {
          "output_type": "stream",
          "name": "stdout",
          "text": [
            "50.0 %\n",
            "66.7 %\n",
            "0.0 %\n",
            "100.0 %\n",
            "string vacio\n"
          ]
        }
      ]
    },
    {
      "cell_type": "markdown",
      "metadata": {
        "id": "vuS9stynso1i"
      },
      "source": [
        "Nuevo string."
      ]
    },
    {
      "cell_type": "code",
      "metadata": {
        "colab": {
          "base_uri": "https://localhost:8080/"
        },
        "id": "_bXdDjoksq78",
        "outputId": "5dedb67d-6c11-4acb-8f16-1ece845f534e"
      },
      "source": [
        "def nuevo_string (s, n):\n",
        "    nueva_palabra=''\n",
        "    vocales = ('aeiouAEIOU')\n",
        "    for i in s:\n",
        "        if i in vocales:\n",
        "            for j in range(n):\n",
        "                nueva_palabra+=i\n",
        "        else:\n",
        "            nueva_palabra += i\n",
        "    return print(nueva_palabra)\n",
        "\n",
        "nuevo_string('Charleston', 10)\n",
        "nuevo_string('RDT11', 1)\n",
        "nuevo_string('H2O', 3)"
      ],
      "execution_count": 3,
      "outputs": [
        {
          "output_type": "stream",
          "name": "stdout",
          "text": [
            "Chaaaaaaaaaarleeeeeeeeeestoooooooooon\n",
            "RDT11\n",
            "H2OOO\n"
          ]
        }
      ]
    },
    {
      "cell_type": "markdown",
      "metadata": {
        "id": "sp10c4SwsvwC"
      },
      "source": [
        "Notas al pie de página."
      ]
    },
    {
      "cell_type": "code",
      "metadata": {
        "colab": {
          "base_uri": "https://localhost:8080/"
        },
        "id": "zP-v3TIQswp8",
        "outputId": "54e75bbc-f350-47c5-8616-cc26dd507a48"
      },
      "source": [
        "def notas_al_pie(s):\n",
        "    nueva_palabra=''\n",
        "    contador=0\n",
        "    for i in s:\n",
        "        if i == '*':\n",
        "            contador+=1\n",
        "            nueva_palabra+='('+str(contador)+')'\n",
        "        else:\n",
        "            nueva_palabra += i\n",
        "    return print(nueva_palabra)\n",
        "\n",
        "notas_al_pie('Esta es la primera nota*; y esta la segunda*.')\n",
        "notas_al_pie('Esta frase no tiene notas. Esta otra tampoco.')\n",
        "notas_al_pie('*,*. *.')\n",
        "notas_al_pie('*')\n",
        "notas_al_pie('')\n",
        "\n"
      ],
      "execution_count": 4,
      "outputs": [
        {
          "output_type": "stream",
          "name": "stdout",
          "text": [
            "Esta es la primera nota(1); y esta la segunda(2).\n",
            "Esta frase no tiene notas. Esta otra tampoco.\n",
            "(1),(2). (3).\n",
            "(1)\n",
            "\n"
          ]
        }
      ]
    },
    {
      "cell_type": "markdown",
      "metadata": {
        "id": "OhTpt8x0wVP_"
      },
      "source": [
        "Calcula código."
      ]
    },
    {
      "cell_type": "code",
      "metadata": {
        "colab": {
          "base_uri": "https://localhost:8080/"
        },
        "id": "mzf0qITewXbp",
        "outputId": "d2177ac9-973f-4cf2-eebb-742fc674c4de"
      },
      "source": [
        "def codigo(s):\n",
        "    v_palabra=s.split()\n",
        "    contador_palabra=0\n",
        "    primeras_letras=''\n",
        "    for i in v_palabra:\n",
        "        primeras_letras+=i[0]\n",
        "        contador_palabra+=len(i)\n",
        "    return print(primeras_letras+str(contador_palabra))\n",
        "\n",
        "codigo('Mireia Belmonte García')\n",
        "codigo('Bruce Frederick Joseph Springsteen')\n",
        "codigo('')\n",
        "codigo('Gerard Piqué Bernabéu')\n",
        "codigo('Sergio Ramos García')\n"
      ],
      "execution_count": 5,
      "outputs": [
        {
          "output_type": "stream",
          "name": "stdout",
          "text": [
            "MBG20\n",
            "BFJS31\n",
            "0\n",
            "GPB19\n",
            "SRG17\n"
          ]
        }
      ]
    },
    {
      "cell_type": "markdown",
      "metadata": {
        "id": "q7zUZBF3wasx"
      },
      "source": [
        "Contador de hidrógenos."
      ]
    },
    {
      "cell_type": "code",
      "metadata": {
        "colab": {
          "base_uri": "https://localhost:8080/"
        },
        "id": "ItOKyKqgwdLR",
        "outputId": "facd6831-da82-47ff-de3c-cbcc9562efb0"
      },
      "source": [
        "def contar_hidrogenos(s):\n",
        "    contador=0\n",
        "    if s.find('H') != -1:\n",
        "        if s.find('H')+1 < len(s):\n",
        "            if s[s.find('H')+1] in ('23456789'):\n",
        "                contador=int(s[s.find('H')+1])\n",
        "            else:\n",
        "                contador = 1\n",
        "        else:\n",
        "            contador=1\n",
        "    return print(contador)\n",
        "\n",
        "contar_hidrogenos('HIO')\n",
        "contar_hidrogenos('H2O')\n",
        "contar_hidrogenos('C2H5O')\n",
        "contar_hidrogenos('Fe3O4')\n",
        "contar_hidrogenos('C2OH')"
      ],
      "execution_count": 6,
      "outputs": [
        {
          "output_type": "stream",
          "name": "stdout",
          "text": [
            "1\n",
            "2\n",
            "5\n",
            "0\n",
            "1\n"
          ]
        }
      ]
    },
    {
      "cell_type": "markdown",
      "metadata": {
        "id": "BGmSF4CWwg80"
      },
      "source": [
        "mediaTempRang"
      ]
    },
    {
      "cell_type": "code",
      "metadata": {
        "colab": {
          "base_uri": "https://localhost:8080/"
        },
        "id": "MvEMRVdkwkNP",
        "outputId": "f0939193-6bce-4a04-fa93-f05c21e5fa41"
      },
      "source": [
        "def mediaTempRang(lst):\n",
        "    contador=0\n",
        "    media=0\n",
        "    for i in lst:\n",
        "        if i >=15 and i <= 45:\n",
        "            media+=i\n",
        "            contador+=1\n",
        "    if contador>0:\n",
        "        med= media/contador\n",
        "    else:\n",
        "        med=-1\n",
        "    return print(round(med,2))\n",
        "\n",
        "\n",
        "mediaTempRang([34.5, 12.9, 15, 43, 51.4, 23.4])\n",
        "mediaTempRang([45.5, 12.9, 15, 32.5, 51.4, 21.2])\n",
        "mediaTempRang([14.5, 12.6, 47.8])\n",
        "mediaTempRang([15, 16, 14, 50, 17])\n"
      ],
      "execution_count": 7,
      "outputs": [
        {
          "output_type": "stream",
          "name": "stdout",
          "text": [
            "28.98\n",
            "22.9\n",
            "-1\n",
            "16.0\n"
          ]
        }
      ]
    },
    {
      "cell_type": "markdown",
      "metadata": {
        "id": "U94O8F22wohI"
      },
      "source": [
        "umbral"
      ]
    },
    {
      "cell_type": "code",
      "metadata": {
        "colab": {
          "base_uri": "https://localhost:8080/"
        },
        "id": "4hfFH3jcwpZs",
        "outputId": "272d8ad4-a2db-4769-dab6-800052a424bb"
      },
      "source": [
        "from math import log10\n",
        "def SPL_dB(P):\n",
        "    return 20*log10(P/20)\n",
        "def detect2ndNdB(lst, N):\n",
        "    con=0\n",
        "    for i in range(len(lst)):\n",
        "        if SPL_dB(lst[i]) > N:\n",
        "            con+=1\n",
        "            if con == 2:\n",
        "                return print(lst[i])\n",
        "    if con<=1:\n",
        "        return print('-1')\n",
        "\n",
        "detect2ndNdB([90, 590, 750, 632, 650, 900, 2000, 789, 545], 30)\n",
        "detect2ndNdB([90, 590, 750, 632, 650, 900, 2000, 789, 545], 33)\n",
        "detect2ndNdB([90, 590, 750, 632, 630, 600, 200, 589, 545], 30)\n",
        "detect2ndNdB([9e3, 1e4, 1.1e5, 2.2e5, 1.3e6, 2.5e6, 3.2e6], 83)\n",
        "detect2ndNdB([2000, 2450.5, 2500, 456.7, 1567.8], 42)"
      ],
      "execution_count": 8,
      "outputs": [
        {
          "output_type": "stream",
          "name": "stdout",
          "text": [
            "650\n",
            "2000\n",
            "-1\n",
            "2500000.0\n",
            "-1\n"
          ]
        }
      ]
    },
    {
      "cell_type": "markdown",
      "metadata": {
        "id": "JQMaOAzows-I"
      },
      "source": [
        "Primos pitagóricos."
      ]
    },
    {
      "cell_type": "code",
      "metadata": {
        "colab": {
          "base_uri": "https://localhost:8080/"
        },
        "id": "HbH6754Uwvk4",
        "outputId": "19db5e35-5103-4799-ea25-5d89802e2b79"
      },
      "source": [
        "def es_primo(n):\n",
        "    if n <= 1: return False\n",
        "    for d in range(2, n//2+1):\n",
        "        if n % d == 0:\n",
        "            return False\n",
        "    return True\n",
        "def primoPitagoric2(lst):\n",
        "    con=0\n",
        "    pri=[]\n",
        "    for i in range(len(lst)):\n",
        "        if es_primo(lst[i]) is True and con <2 and lst[i]%4==1:\n",
        "            con+=1\n",
        "            pri.append(lst[i])\n",
        "    if len(pri)>=2:\n",
        "        return print(pri)\n",
        "    else:\n",
        "        return print('-1')\n",
        "\n",
        "primoPitagoric2([3, 4, 5, 6, 7, 8, 9, 10, 11, 12, 13])\n",
        "primoPitagoric2([5, 9, 13, 17, 21, 25, 29, 33, 37, 41])\n",
        "primoPitagoric2([41, 45, 49, 53, 57, 61, 65, 69, 73, 77, 81])\n",
        "primoPitagoric2([3, 4, 5, 6, 7, 8, 9, 10])\n",
        "primoPitagoric2([81, 85, 89, 93, 97, 101, 105, 109, 113, 117, 121])"
      ],
      "execution_count": 9,
      "outputs": [
        {
          "output_type": "stream",
          "name": "stdout",
          "text": [
            "[5, 13]\n",
            "[5, 13]\n",
            "[41, 53]\n",
            "-1\n",
            "[89, 97]\n"
          ]
        }
      ]
    },
    {
      "cell_type": "markdown",
      "metadata": {
        "id": "K782HmlXwy-4"
      },
      "source": [
        "Contar positivos."
      ]
    },
    {
      "cell_type": "code",
      "metadata": {
        "colab": {
          "base_uri": "https://localhost:8080/"
        },
        "id": "r6gFeyy2wyJ8",
        "outputId": "d2efef45-900f-4554-8885-a87aafbfe8e6"
      },
      "source": [
        "def contar_pos(m):\n",
        "    f=len(m)\n",
        "    c=len(m[0])\n",
        "    con=0\n",
        "    for i in range(0,c):\n",
        "        for j in range(f):\n",
        "            if m[i][j]>0:\n",
        "                con+=1\n",
        "\n",
        "    return print(con)\n",
        "\n",
        "contar_pos([[1, -2, 3], [-4, 5, 6], [7, 8, -9]])\n",
        "\n",
        "\n"
      ],
      "execution_count": 10,
      "outputs": [
        {
          "output_type": "stream",
          "name": "stdout",
          "text": [
            "6\n"
          ]
        }
      ]
    },
    {
      "cell_type": "markdown",
      "metadata": {
        "id": "v5OXVCPCw36o"
      },
      "source": [
        "Mayor densidad."
      ]
    },
    {
      "cell_type": "code",
      "metadata": {
        "colab": {
          "base_uri": "https://localhost:8080/"
        },
        "id": "m3npz3KCw45U",
        "outputId": "d60d52ce-db39-4ddc-da8d-875a924f587b"
      },
      "source": [
        "def mas_denso(Lst):\n",
        "    f = len(Lst)\n",
        "    densidad=0\n",
        "    planeta=''\n",
        "    for i in range(0,f):\n",
        "        if Lst[i][1]*Lst[i][2]>densidad:\n",
        "            densidad = Lst[i][1]*Lst[i][2]\n",
        "            planeta=Lst[i][0]\n",
        "    return print(planeta)\n",
        "\n",
        "mas_denso([['Marte', 1, 2], ['Tierra', 2, 3], ['Venus', 1, 3]])\n"
      ],
      "execution_count": 11,
      "outputs": [
        {
          "output_type": "stream",
          "name": "stdout",
          "text": [
            "Tierra\n"
          ]
        }
      ]
    },
    {
      "cell_type": "markdown",
      "metadata": {
        "id": "j4C7heNvw8Ac"
      },
      "source": [
        "Fútbol."
      ]
    },
    {
      "cell_type": "code",
      "metadata": {
        "colab": {
          "base_uri": "https://localhost:8080/"
        },
        "id": "NL-P-9SIw8xP",
        "outputId": "1aef70db-bf0e-42ce-dcd4-2f6181ee776f"
      },
      "source": [
        "def jugComKm(equipo, x):\n",
        "    f=len(equipo)\n",
        "    media=0\n",
        "    n=0\n",
        "    jugadores=[]\n",
        "    for i in range(0,f):\n",
        "        if equipo[i][2] is True:\n",
        "            for j in range(len(equipo[i])):\n",
        "                if j > 3:\n",
        "                    media += equipo[i][j]\n",
        "                    n += 1\n",
        "        if n>0:\n",
        "            mediap = round(media/n, 2)\n",
        "            if mediap > x:\n",
        "                jugadores.append(equipo[i][1])\n",
        "        n=0\n",
        "        media=0\n",
        "    a = sorted(jugadores)\n",
        "    return print(a)\n",
        "\n",
        "lst_equipo = [[3, 'Pique', True, 33, 10.2, 9.0],\n",
        "[4, 'Ramos', True, 34, 11.0, 11.1, 9.8, 8.5],\n",
        "[6, 'Koke', True, 27, 7.5, 9.6, 10.3, 6.5, 5.6],\n",
        "[7, 'Joao', True, 25, 10.5, 8.4, 9.0, 8.6],\n",
        "[8, 'Saul', True, 24, 9.5, 8.9, 10.0, 9.6],\n",
        "[9, 'Suarez', False, 33, 8.6, 7.5],\n",
        "[10, 'Lionel', False, 33, 10.0, 11.1, 9.8, 8.5,10.1],\n",
        "[19, 'Odriozola', True, 25, 9.5],\n",
        "[14, 'Araujo', False, 21, 8.9, 9.5],\n",
        "[15, 'Valverde', False, 22, 9.9, 10.2],\n",
        "[16, 'Pedri', True, 18, 10.5, 11, 9.5, 10.6],\n",
        "[22, 'Hermoso', False, 23, 10, 7.5, 6.6],\n",
        "[23, 'Iago', True, 33, 11.1, 9.0, 9.3, 8.8]]\n",
        "\n",
        "jugComKm(lst_equipo, 10)\n",
        "jugComKm(lst_equipo, 10.2)\n",
        "jugComKm(lst_equipo, 10.5)\n",
        "jugComKm(lst_equipo, 9.5)\n",
        "jugComKm(lst_equipo, 9.4)"
      ],
      "execution_count": 16,
      "outputs": [
        {
          "output_type": "stream",
          "name": "stdout",
          "text": [
            "['Pedri', 'Ramos']\n",
            "['Pedri']\n",
            "[]\n",
            "['Iago', 'Pedri', 'Pique', 'Ramos']\n",
            "['Iago', 'Odriozola', 'Pedri', 'Pique', 'Ramos', 'Saul']\n"
          ]
        }
      ]
    }
  ]
}