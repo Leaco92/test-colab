{
  "nbformat": 4,
  "nbformat_minor": 0,
  "metadata": {
    "colab": {
      "name": "Algoritmos AG1 - Jose Leandro Parada Rivera.ipynb",
      "provenance": [],
      "collapsed_sections": [],
      "include_colab_link": true
    },
    "kernelspec": {
      "name": "python3",
      "display_name": "Python 3"
    },
    "language_info": {
      "name": "python"
    }
  },
  "cells": [
    {
      "cell_type": "markdown",
      "metadata": {
        "id": "view-in-github",
        "colab_type": "text"
      },
      "source": [
        "<a href=\"https://colab.research.google.com/github/Leaco92/test-colab/blob/main/Algoritmos_AG1_Jose_Leandro_Parada_Rivera.ipynb\" target=\"_parent\"><img src=\"https://colab.research.google.com/assets/colab-badge.svg\" alt=\"Open In Colab\"/></a>"
      ]
    },
    {
      "cell_type": "markdown",
      "metadata": {
        "id": "GG2D6vLdYwwy"
      },
      "source": [
        "Actividad Guiada 1 de Algoritmos de Optimizacion\n",
        "\n",
        "Nombre: Jose Leandro Parada Rivera\n",
        "\n",
        "https://colab.research.google.com/drive/1RJNm454ueMWwB1bimtMMADj_iPss1yQk#scrollTo=GG2D6vLdYwwy\n",
        "\n",
        "https://github.com/Leaco92/test-colab/blob/main/Algoritmos_AG1_Jose_Leandro_Parada_Rivera.ipynb"
      ]
    },
    {
      "cell_type": "code",
      "metadata": {
        "id": "rTiqLuX2ZKuL",
        "colab": {
          "base_uri": "https://localhost:8080/"
        },
        "outputId": "dad47e18-db35-4e3a-8416-1acce0761596"
      },
      "source": [
        "#Torres de Hanoi - Divide y venceras\n",
        "################################################################################\n",
        "\n",
        "\n",
        "################################################################\n",
        "def Torres_Hanoi(N, desde, hasta):\n",
        "  #N - Nº de fichas\n",
        "  #desde - torre inicial\n",
        "  #hasta - torre fina\n",
        "  if N==1 :\n",
        "    print(\"Lleva la ficha desde \" + str(desde) + \" hasta \" + str(hasta))\n",
        "\n",
        "  else:\n",
        "    Torres_Hanoi(N-1, desde, 6-desde-hasta)\n",
        "    print(\"Lleva la ficha desde \" + str(desde) + \" hasta \" + str(hasta))\n",
        "    Torres_Hanoi(N-1, 6-desde-hasta,  hasta)\n",
        "\n",
        "Torres_Hanoi(3, 1, 3)\n",
        "################################################################"
      ],
      "execution_count": null,
      "outputs": [
        {
          "output_type": "stream",
          "name": "stdout",
          "text": [
            "Lleva la ficha desde 1 hasta 3\n",
            "Lleva la ficha desde 1 hasta 2\n",
            "Lleva la ficha desde 3 hasta 2\n",
            "Lleva la ficha desde 1 hasta 3\n",
            "Lleva la ficha desde 2 hasta 1\n",
            "Lleva la ficha desde 2 hasta 3\n",
            "Lleva la ficha desde 1 hasta 3\n"
          ]
        }
      ]
    },
    {
      "cell_type": "code",
      "metadata": {
        "id": "UTL6wiczQVDA"
      },
      "source": [
        ""
      ],
      "execution_count": null,
      "outputs": []
    },
    {
      "cell_type": "code",
      "metadata": {
        "id": "YwBudj2hYoMR",
        "colab": {
          "base_uri": "https://localhost:8080/"
        },
        "outputId": "5519d028-6c18-4dda-dc0d-4ca20a2782a7"
      },
      "source": [
        "#Cambio de monedas - Técnica voraz\n",
        "################################################################################\n",
        "SISTEMA = [25, 10 ,5,1]\n",
        "################################################################\n",
        "def cambio_monedas(CANTIDAD,SISTEMA):\n",
        "#....\n",
        "  SOLUCION = [0]*len(SISTEMA)\n",
        "  ValorAcumulado = 0\n",
        "\n",
        "  for i,valor in enumerate(SISTEMA):\n",
        "    monedas = (CANTIDAD-ValorAcumulado)//valor\n",
        "    SOLUCION[i] = monedas\n",
        "    ValorAcumulado = ValorAcumulado + monedas*valor\n",
        "\n",
        "    if CANTIDAD == ValorAcumulado:\n",
        "      return SOLUCION\n",
        "\n",
        "  print(\"No es posible encontrar solucion\") \n",
        "cambio_monedas(56,SISTEMA)\n",
        "\n",
        "    \n",
        "################################################################"
      ],
      "execution_count": null,
      "outputs": [
        {
          "output_type": "execute_result",
          "data": {
            "text/plain": [
              "[2, 0, 1, 1]"
            ]
          },
          "metadata": {},
          "execution_count": 3
        }
      ]
    },
    {
      "cell_type": "code",
      "metadata": {
        "id": "H4Iwt2XRZTFr",
        "colab": {
          "base_uri": "https://localhost:8080/"
        },
        "outputId": "f66bc3b7-9e0f-4023-f03b-683ac0333d74"
      },
      "source": [
        "#N Reinas - Vuelta Atrás()\n",
        "################################################################################\n",
        "\n",
        "#Verifica que en la solución parcial no hay amenzas entre reinas\n",
        "################################################################\n",
        "def es_prometedora(SOLUCION,etapa):\n",
        "################################################################\n",
        "  #print(SOLUCION)\n",
        "  #Si la solución tiene dos valores iguales no es valida => Dos reinas en la misma fila\n",
        "  for i in range(etapa+1):\n",
        "    #print(\"El valor \" + str(SOLUCION[i]) + \" está \" +  str(SOLUCION.count(SOLUCION[i])) + \" veces\")\n",
        "    if SOLUCION.count(SOLUCION[i]) > 1:       \n",
        "      return False\n",
        "  \n",
        "    #Verifica las diagonales\n",
        "    for j in range(i+1, etapa +1 ):\n",
        "      #print(\"Comprobando diagonal de \" + str(i) + \" y \" + str(j))\n",
        "      if abs(i-j) == abs(SOLUCION[i]-SOLUCION[j]) : return False\n",
        "  return True\n",
        "\n",
        "#Traduce la solución al tablero\n",
        "################################################################\n",
        "def escribe_solucion(S):\n",
        "################################################################\n",
        "  n = len(S)\n",
        "  for x in range(n):\n",
        "    print(\"\")\n",
        "    for i in range(n):\n",
        "      if S[i] == x+1:\n",
        "        print(\" X \" , end=\"\")\n",
        "      else:\n",
        "        print(\" - \", end=\"\")\n",
        "\n",
        "\n",
        "\n",
        "#Proceso principal de N-Reinas\n",
        "################################################################\n",
        "def reinas(N, solucion=[],etapa=0): \n",
        "################################################################\n",
        "### ....\n",
        "  if len(solucion) == 0:         # [0,0,0...]\n",
        "    solucion = [0 for i in range(N) ]\n",
        "  \n",
        "  for i in range(1, N+1):\n",
        "    solucion[etapa] = i\n",
        "    print(solucion)\n",
        "    if es_prometedora(solucion, etapa):\n",
        "      if etapa == N-1:\n",
        "        print(solucion)\n",
        "      else:  \n",
        "        reinas(N, solucion, etapa+1)\n",
        "    else:\n",
        "      None\n",
        "  \n",
        "  solucion[etapa] = 0\n",
        "\n",
        "reinas(4,solucion=[],etapa=0)"
      ],
      "execution_count": null,
      "outputs": [
        {
          "output_type": "stream",
          "name": "stdout",
          "text": [
            "[1, 0, 0, 0]\n",
            "[1, 1, 0, 0]\n",
            "[1, 2, 0, 0]\n",
            "[1, 3, 0, 0]\n",
            "[1, 3, 1, 0]\n",
            "[1, 3, 2, 0]\n",
            "[1, 3, 3, 0]\n",
            "[1, 3, 4, 0]\n",
            "[1, 4, 0, 0]\n",
            "[1, 4, 1, 0]\n",
            "[1, 4, 2, 0]\n",
            "[1, 4, 2, 1]\n",
            "[1, 4, 2, 2]\n",
            "[1, 4, 2, 3]\n",
            "[1, 4, 2, 4]\n",
            "[1, 4, 3, 0]\n",
            "[1, 4, 4, 0]\n",
            "[2, 0, 0, 0]\n",
            "[2, 1, 0, 0]\n",
            "[2, 2, 0, 0]\n",
            "[2, 3, 0, 0]\n",
            "[2, 4, 0, 0]\n",
            "[2, 4, 1, 0]\n",
            "[2, 4, 1, 1]\n",
            "[2, 4, 1, 2]\n",
            "[2, 4, 1, 3]\n",
            "[2, 4, 1, 3]\n",
            "[2, 4, 1, 4]\n",
            "[2, 4, 2, 0]\n",
            "[2, 4, 3, 0]\n",
            "[2, 4, 4, 0]\n",
            "[3, 0, 0, 0]\n",
            "[3, 1, 0, 0]\n",
            "[3, 1, 1, 0]\n",
            "[3, 1, 2, 0]\n",
            "[3, 1, 3, 0]\n",
            "[3, 1, 4, 0]\n",
            "[3, 1, 4, 1]\n",
            "[3, 1, 4, 2]\n",
            "[3, 1, 4, 2]\n",
            "[3, 1, 4, 3]\n",
            "[3, 1, 4, 4]\n",
            "[3, 2, 0, 0]\n",
            "[3, 3, 0, 0]\n",
            "[3, 4, 0, 0]\n",
            "[4, 0, 0, 0]\n",
            "[4, 1, 0, 0]\n",
            "[4, 1, 1, 0]\n",
            "[4, 1, 2, 0]\n",
            "[4, 1, 3, 0]\n",
            "[4, 1, 3, 1]\n",
            "[4, 1, 3, 2]\n",
            "[4, 1, 3, 3]\n",
            "[4, 1, 3, 4]\n",
            "[4, 1, 4, 0]\n",
            "[4, 2, 0, 0]\n",
            "[4, 2, 1, 0]\n",
            "[4, 2, 2, 0]\n",
            "[4, 2, 3, 0]\n",
            "[4, 2, 4, 0]\n",
            "[4, 3, 0, 0]\n",
            "[4, 4, 0, 0]\n"
          ]
        }
      ]
    },
    {
      "cell_type": "code",
      "metadata": {
        "id": "eTZclKH9QV0R",
        "colab": {
          "base_uri": "https://localhost:8080/"
        },
        "outputId": "4cc022e1-69fd-4ae6-cf19-ed7627c00fe6"
      },
      "source": [
        "escribe_solucion([3, 1, 4, 2])"
      ],
      "execution_count": null,
      "outputs": [
        {
          "output_type": "stream",
          "name": "stdout",
          "text": [
            "\n",
            " -  X  -  - \n",
            " -  -  -  X \n",
            " X  -  -  - \n",
            " -  -  X  - "
          ]
        }
      ]
    },
    {
      "cell_type": "code",
      "metadata": {
        "id": "TocxR55dQWq5"
      },
      "source": [
        "#Viaje por el rio - Programación dinámica\n",
        "################################################################################\n",
        "\n",
        "TARIFAS = [\n",
        "[0,5,4,3,999,999,999],\n",
        "[999,0,999,2,3,999,11],\n",
        "[999,999, 0,1,999,4,10],\n",
        "[999,999,999, 0,5,6,9],\n",
        "[999,999, 999,999,0,999,4],\n",
        "[999,999, 999,999,999,0,3],\n",
        "[999,999,999,999,999,999,0]\n",
        "]\n",
        "\n",
        "#999 se puede sustituir por float(\"inf\")\n",
        "\n",
        "\n",
        "#Calculo de la matriz de PRECIOS y RUTAS\n",
        "################################################################  \n",
        "def Precios(TARIFAS):\n",
        "################################################################ \n",
        "#....\n",
        "\n",
        "\n",
        "\n",
        "\n",
        "\n",
        "\n",
        "PRECIOS,RUTA = Precios(TARIFAS)  \n",
        "#print(PRECIOS[0][6])\n",
        "\n",
        "#Imprime la matriz de precios\n",
        "print(\"PRECIOS\")\n",
        "for i in range(len(TARIFAS)):\n",
        "  print(PRECIOS[i])\n",
        "\n",
        "#Imprime la matriz de RUTAS\n",
        "print(\"\\nRUTA\")  \n",
        "for i in range(len(TARIFAS)):\n",
        "  print(RUTA[i])  \n",
        "  \n",
        "#Determinar la ruta con Recursividad\n",
        "################################################################\n",
        "def calcular_ruta(RUTA, desde, hasta):\n",
        "################################################################\n",
        "  if desde == hasta:\n",
        "    #print(\"Ir a :\" + str(desde))\n",
        "    return \"\" \n",
        "  else:\n",
        "    return str(calcular_ruta( RUTA, desde, RUTA[desde][hasta])) +  \\\n",
        "                ',' + \\\n",
        "                str(RUTA[desde][hasta] \\\n",
        "              ) \n",
        "\n",
        "print(\"\\nLa ruta es:\")  \n",
        "calcular_ruta(RUTA, 0,6) "
      ],
      "execution_count": null,
      "outputs": []
    },
    {
      "cell_type": "markdown",
      "source": [
        "##Puntos Extra"
      ],
      "metadata": {
        "id": "spmIw1LH8XoV"
      }
    },
    {
      "cell_type": "code",
      "source": [
        "import random\n",
        "random_numbers = random.sample(range(100000000), 500)"
      ],
      "metadata": {
        "id": "IXnGmOLd8fJV"
      },
      "execution_count": 1,
      "outputs": []
    },
    {
      "cell_type": "code",
      "source": [
        "distancia=1000000000\n",
        "\n",
        "for i in range(len(random_numbers)):\n",
        "    for j in range(len(random_numbers)):\n",
        "        if distancia>abs(random_numbers[i]-random_numbers[j]) and random_numbers[i] != random_numbers[j]:\n",
        "            distancia=abs(random_numbers[i]-random_numbers[j])\n",
        "print(distancia)"
      ],
      "metadata": {
        "colab": {
          "base_uri": "https://localhost:8080/"
        },
        "id": "43JojlQI8jDU",
        "outputId": "15d97baa-c56a-4b45-e563-67959dfbb142"
      },
      "execution_count": 2,
      "outputs": [
        {
          "output_type": "stream",
          "name": "stdout",
          "text": [
            "61\n"
          ]
        }
      ]
    },
    {
      "cell_type": "code",
      "source": [
        "def menorDistancia(numeros,n,d):\n",
        "    if n<0:\n",
        "        print(d)\n",
        "    else:\n",
        "        for i in range (len(numeros)):\n",
        "            if d>abs(numeros[i]-numeros[n-1]) and numeros[n-1] != numeros[i]:\n",
        "                d=abs(numeros[i]-numeros[n-1])\n",
        "        menorDistancia(numeros,n-1,d)\n",
        "      \n",
        "menorDistancia(random_numbers,len(random_numbers),10000000)"
      ],
      "metadata": {
        "colab": {
          "base_uri": "https://localhost:8080/"
        },
        "id": "JKEH6Zyi8mF1",
        "outputId": "4abc9508-d4c1-4ff2-d4a1-efcbe0b515b9"
      },
      "execution_count": 3,
      "outputs": [
        {
          "output_type": "stream",
          "name": "stdout",
          "text": [
            "61\n"
          ]
        }
      ]
    },
    {
      "cell_type": "code",
      "source": [
        "random_numbers0 = random.sample(range(1000000), 500)\n",
        "random_numbers1 = random.sample(range(1000000), 500)\n",
        "random_numbers_dos=[]\n",
        "val=[0,0]\n",
        "for i in range (len(random_numbers0)):\n",
        "    val[0]=random_numbers0[i]\n",
        "    val[1]=random_numbers1[i]\n",
        "    random_numbers_dos.append(val.copy())"
      ],
      "metadata": {
        "id": "MjCo4VQg8non"
      },
      "execution_count": 13,
      "outputs": []
    },
    {
      "cell_type": "code",
      "source": [
        "distancia=1000000000\n",
        "\n",
        "for i in range(len(random_numbers_dos)-1):\n",
        "    for j in range(1,len(random_numbers_dos)):\n",
        "        if distancia>abs(((random_numbers_dos[i][0]-random_numbers_dos[j][0])**(2)-(random_numbers_dos[i][1]-random_numbers_dos[j][1])**(2))**(1/2)) and random_numbers_dos[i] != random_numbers_dos[j]:\n",
        "            distancia=abs(((random_numbers_dos[i][0]-random_numbers_dos[j][0])**(2)-(random_numbers_dos[i][1]-random_numbers_dos[j][1])**(2))**(1/2))\n",
        "print(distancia)"
      ],
      "metadata": {
        "colab": {
          "base_uri": "https://localhost:8080/"
        },
        "id": "qGI2zOrj8p79",
        "outputId": "f80547c3-fd4b-4ba3-f5c4-f150f93bd218"
      },
      "execution_count": 14,
      "outputs": [
        {
          "output_type": "stream",
          "name": "stdout",
          "text": [
            "476.9748421038577\n"
          ]
        }
      ]
    },
    {
      "cell_type": "code",
      "source": [
        "def menorDistancia(numeros,n,d):\n",
        "    \n",
        "    if n==0:\n",
        "        print(d)\n",
        "    else:\n",
        "        for i in range (len(numeros)):\n",
        "            if d>abs(((numeros[i][0]-numeros[n-1][0])**(2)-(numeros[i][1]-numeros[n-1][1])**(2))**(1/2)) and numeros[n-1] != numeros[i]:\n",
        "                d=abs(((numeros[i][0]-numeros[n-1][0])**(2)-(numeros[i][1]-numeros[n-1][1])**(2))**(1/2))\n",
        "        menorDistancia(numeros,n-1,d)\n",
        "      \n",
        "menorDistancia(random_numbers_dos,len(random_numbers_dos),10000000)"
      ],
      "metadata": {
        "colab": {
          "base_uri": "https://localhost:8080/"
        },
        "id": "Bfz8e-DT8tNM",
        "outputId": "7e8d79e2-1284-4919-e876-4bd29147ac12"
      },
      "execution_count": 15,
      "outputs": [
        {
          "output_type": "stream",
          "name": "stdout",
          "text": [
            "476.9748421038577\n"
          ]
        }
      ]
    }
  ]
}